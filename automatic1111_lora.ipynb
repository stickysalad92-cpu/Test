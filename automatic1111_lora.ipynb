# ======================================
# 1. Montar Google Drive
# ======================================
from google.colab import drive
drive.mount('/content/drive')

# Criar pasta de Loras no Drive (se não existir)
import os
loras_path = "/content/drive/MyDrive/LoRAs"
os.makedirs(loras_path, exist_ok=True)
print(f"✅ Pasta de Loras disponível em: {loras_path}")


# ======================================
# 2. Clonar AUTOMATIC1111 WebUI
# ======================================
!git clone https://github.com/AUTOMATIC1111/stable-diffusion-webui /content/stable-diffusion-webui


# ======================================
# 3. Corrigir versão Python / Torch
# ======================================
!apt-get install -y python3.10 python3.10-venv python3.10-dev
!update-alternatives --install /usr/bin/python3 python3 /usr/bin/python3.10 1
!update-alternatives --config python3
!pip install torch==2.0.1 torchvision==0.15.2


# ======================================
# 4. Linkar pasta de Loras no WebUI
# ======================================
loras_target = "/content/stable-diffusion-webui/models/Lora"
os.makedirs(loras_target, exist_ok=True)

# Criar link simbólico para economizar espaço
!rm -rf {loras_target}
!ln -s {loras_path} {loras_target}
print("✅ Loras linkados do Google Drive")


# ======================================
# 5. Instalar DeepDanbooru
# ======================================
!git clone https://github.com/KichangKim/DeepDanbooru /content/DeepDanbooru
%cd /content/DeepDanbooru
!pip install -r requirements.txt
print("✅ DeepDanbooru instalado")


# ======================================
# 6. Função: Gerar prompt detalhado via DeepDanbooru
# ======================================
import deepdanbooru as dd

project_path = "/content/DeepDanbooru"

def gerar_prompt_deepbooru(img_path, min_score=0.3):
    """
    Gera prompt detalhado a partir de uma imagem usando DeepDanbooru.
    - img_path: caminho da imagem
    - min_score: confiança mínima para incluir a tag
    """
    tags = dd.commands.evaluate_image(
        project_path,
        img_path,
        threshold=min_score
    )

    tags = sorted(tags, key=lambda x: x[1], reverse=True)
    prompt = ", ".join([tag for tag, score in tags])
    return prompt


# ==========================
# Exemplo de uso:
# Suba uma imagem para /content/teste.jpg
# e rode:
# print(gerar_prompt_deepbooru("/content/teste.jpg"))
# ==========================
