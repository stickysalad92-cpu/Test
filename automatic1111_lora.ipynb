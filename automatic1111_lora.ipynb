{
  "cells": [
    {
      "cell_type": "code",
      "id": "anti_idle",
      "metadata": {},
      "source": [
        "# ⏳ Anti-Idle (mantém Colab ativo)\n",
        "import time\n",
        "while True:\n",
        "    time.sleep(60)"
      ]
    },
    {
      "cell_type": "code",
      "id": "mount_drive",
      "metadata": {},
      "source": [
        "# 📂 Montar Google Drive\n",
        "from google.colab import drive\n",
        "drive.mount('/content/drive')"
      ]
    },
    {
      "cell_type": "code",
      "id": "install_webui",
      "metadata": {},
      "source": [
        "# ⬇️ Clonar WebUI\n",
        "!git clone https://github.com/AUTOMATIC1111/stable-diffusion-webui /content/stable-diffusion-webui"
      ]
    },
    {
      "cell_type": "code",
      "id": "link_loras",
      "metadata": {},
      "source": [
        "# 🔗 Linkar pasta de LoRAs\n",
        "!mkdir -p /content/stable-diffusion-webui/models/Lora\n",
        "!ln -s /content/drive/MyDrive/SD_LoRAs /content/stable-diffusion-webui/models/Lora"
      ]
    },
    {
      "cell_type": "code",
      "id": "run_webui_cpu",
      "metadata": {},
      "source": [
        "# ▶️ Rodar WebUI em modo CPU (sem GPU)\n",
        "%cd /content/stable-diffusion-webui\n",
        "!COMMANDLINE_ARGS=\"--share --disable-safe-unpickle --skip-torch-cuda-test --precision full --no-half\" \\\n",
        "  REQS_FILE=\"requirements.txt\" \\\n",
        "  python launch.py"
      ]
    }
  ],
  "metadata": {
    "colab": {
      "provenance": []
    },
    "kernelspec": {
      "display_name": "Python 3",
      "language": "python",
      "name": "python3"
    },
    "language_info": {
      "name": "python"
    }
  },
  "nbformat": 4,
  "nbformat_minor": 5
}
