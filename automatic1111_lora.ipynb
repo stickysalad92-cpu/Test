{
 "cells": [
  {
   "cell_type": "code",
   "execution_count": null,
   "id": "mount_drive",
   "metadata": {},
   "outputs": [],
   "source": [
    "# 📂 Montar Google Drive\n",
    "from google.colab import drive\n",
    "drive.mount('/content/drive')"
   ]
  },
  {
   "cell_type": "code",
   "execution_count": null,
   "id": "clone_webui",
   "metadata": {},
   "outputs": [],
   "source": [
    "# ⬇️ Clonar Automatic1111 WebUI\n",
    "!git clone https://github.com/AUTOMATIC1111/stable-diffusion-webui /content/stable-diffusion-webui"
   ]
  },
  {
   "cell_type": "code",
   "execution_count": null,
   "id": "link_loras",
   "metadata": {},
   "outputs": [],
   "source": [
    "# 🔗 Linkar pasta de LoRAs\n",
    "!mkdir -p /content/drive/MyDrive/sd_loras\n",
    "!mkdir -p /content/stable-diffusion-webui/models/Lora\n",
    "!ln -s /content/drive/MyDrive/sd_loras /content/stable-diffusion-webui/models/Lora/sd_loras"
   ]
  },
  {
   "cell_type": "code",
   "execution_count": null,
   "id": "fix_tokenizers",
   "metadata": {},
   "outputs": [],
   "source": [
    "# 🛠️ Corrigir erro dos tokenizers\n",
    "!pip install tokenizers==0.13.3 --force-reinstall"
   ]
  },
  {
   "cell_type": "code",
   "execution_count": null,
   "id": "run_webui",
   "metadata": {},
   "outputs": [],
   "source": [
    "# ▶️ Rodar em modo CPU\n",
    "%cd /content/stable-diffusion-webui\n",
    "!COMMANDLINE_ARGS=\"--share --disable-safe-unpickle --skip-torch-cuda-test --precision full --no-half\" \\\n",
    "  REQS_FILE=\"requirements.txt\" \\\n",
    "  python launch.py"
   ]
  },
  {
   "cell_type": "code",
   "execution_count": null,
   "id": "anti_idle",
   "metadata": {},
   "outputs": [],
   "source": [
    "# ⏳ Anti-Idle (mantém Colab ativo)\n",
    "import time\n",
    "while True:\n",
    "    time.sleep(60)"
   ]
  }
 ],
 "metadata": {
  "colab": {
   "provenance": []
  },
  "kernelspec": {
   "display_name": "Python 3",
   "language": "python",
   "name": "python3"
  },
  "language_info": {
   "name": "python"
  }
 },
 "nbformat": 4,
 "nbformat_minor": 5
}
