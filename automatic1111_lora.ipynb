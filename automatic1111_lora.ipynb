{
 "cells": [
  {
   "cell_type": "markdown",
   "metadata": {},
   "source": [
    "# 🚀 Stable Diffusion WebUI com LoRAs no Colab (modo CPU)"
   ]
  },
  {
   "cell_type": "code",
   "execution_count": null,
   "metadata": {},
   "outputs": [],
   "source": [
    "# 📂 Montar Google Drive",
    "from google.colab import drive",
    "drive.mount('/content/drive')"
   ]
  },
  {
   "cell_type": "code",
   "execution_count": null,
   "metadata": {},
   "outputs": [],
   "source": [
    "# 🔧 Dependências principais (forçando reinstalação limpa)",
    "!pip install --upgrade pip",
    "!pip install torch torchvision torchaudio --index-url https://download.pytorch.org/whl/cpu",
    "!pip install pytorch-lightning==2.4.0 --no-cache-dir --force-reinstall"
   ]
  },
  {
   "cell_type": "code",
   "execution_count": null,
   "metadata": {},
   "outputs": [],
   "source": [
    "# ✅ Verificar instalação",
    "import pytorch_lightning as pl",
    "print('PyTorch Lightning carregado:', pl.__version__)"
   ]
  },
  {
   "cell_type": "code",
   "execution_count": null,
   "metadata": {},
   "outputs": [],
   "source": [
    "# ⬇️ Clonar Automatic1111",
    "!git clone https://github.com/AUTOMATIC1111/stable-diffusion-webui /content/stable-diffusion-webui"
   ]
  },
  {
   "cell_type": "code",
   "execution_count": null,
   "metadata": {},
   "outputs": [],
   "source": [
    "# 🔗 Vincular pasta de LoRAs do Drive",
    "!mkdir -p /content/stable-diffusion-webui/models/Lora",
    "!ln -s /content/drive/MyDrive/SD_LoRAs /content/stable-diffusion-webui/models/Lora"
   ]
  },
  {
   "cell_type": "code",
   "execution_count": null,
   "metadata": {},
   "outputs": [],
   "source": [
    "# ▶️ Rodar WebUI em modo CPU",
    "%cd /content/stable-diffusion-webui",
    "!COMMANDLINE_ARGS=\"--share --disable-safe-unpickle --skip-torch-cuda-test --precision full --no-half\" \\",
    "  REQS_FILE=\"requirements.txt\" \\",
    "  python launch.py"
   ]
  },
  {
   "cell_type": "code",
   "execution_count": null,
   "metadata": {},
   "outputs": [],
   "source": [
    "# ⏳ Anti-Idle seguro (mantém Colab ativo)",
    "import time, threading",
    "def anti_idle():",
    "    while True:",
    "        time.sleep(60)",
    "threading.Thread(target=anti_idle, daemon=True).start()",
    "print('✅ Anti-Idle ativado!')"
   ]
  }
 ],
 "metadata": {
  "colab": {
   "provenance": []
  },
  "kernelspec": {
   "display_name": "Python 3",
   "language": "python",
   "name": "python3"
  },
  "language_info": {
   "name": "python"
  }
 },
 "nbformat": 4,
 "nbformat_minor": 0
}
