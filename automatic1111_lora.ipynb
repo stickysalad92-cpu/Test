{
  "cells": [
    {
      "cell_type": "markdown",
      "metadata": {},
      "source": [
        "# Stable Diffusion WebUI (A1111) + Google Drive LoRAs\n",
        "Este notebook monta o Google Drive, instala o Automatic1111 e usa a pasta `SD_LoRAs` para carregar os LoRAs automaticamente."
      ]
    },
    {
      "cell_type": "code",
      "metadata": {},
      "execution_count": null,
      "outputs": [],
      "source": [
        "# Montar Google Drive\n",
        "from google.colab import drive\n",
        "drive.mount('/content/drive')"
      ]
    },
    {
      "cell_type": "code",
      "metadata": {},
      "execution_count": null,
      "outputs": [],
      "source": [
        "# Instalar Automatic1111 WebUI\n",
        "!git clone https://github.com/AUTOMATIC1111/stable-diffusion-webui /content/stable-diffusion-webui\n",
        "\n",
        "# Criar link simbólico para a pasta de LoRAs no Drive\n",
        "!mkdir -p /content/stable-diffusion-webui/models/Lora\n",
        "!ln -s /content/drive/MyDrive/SD_LoRAs /content/stable-diffusion-webui/models/Lora/DriveLoRAs"
      ]
    },
    {
      "cell_type": "code",
      "metadata": {},
      "execution_count": null,
      "outputs": [],
      "source": [
        "# Iniciar WebUI com link público\n",
        "!COMMANDLINE_ARGS=\"--share --disable-safe-unpickle\" \\\n",
        "    python /content/stable-diffusion-webui/launch.py"
      ]
    }
  ],
  "metadata": {
    "colab": {
      "provenance": []
    },
    "kernelspec": {
      "display_name": "Python 3",
      "language": "python",
      "name": "python3"
    },
    "language_info": {
      "name": "python"
    }
  },
  "nbformat": 4,
  "nbformat_minor": 0
}
