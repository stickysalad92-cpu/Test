{
  "cells": [
    {
      "cell_type": "code",
      "metadata": {},
      "source": [
        "%%javascript\n",
        "(function(){\n",
        "  function clickConnect(){\n",
        "    const host = document.querySelector('colab-connect-button');\n",
        "    const btn = host && host.shadowRoot ? host.shadowRoot.querySelector('#connect') : null;\n",
        "    (btn || document.querySelector('#connect'))?.click();\n",
        "    console.log('⏳ Anti-idle ping enviado');\n",
        "  }\n",
        "  setInterval(clickConnect, 60000);\n",
        "})();"
      ]
    },
    {
      "cell_type": "code",
      "metadata": {},
      "source": [
        "# Instalar dependências básicas\n",
        "!apt -y update -qq\n",
        "!apt -y install -qq aria2 python3.10 python3.10-venv\n",
        "!update-alternatives --install /usr/bin/python3 python3 /usr/bin/python3.10 1\n",
        "!update-alternatives --config python3 <<<'1'\n",
        "!python3 -m pip install --upgrade pip\n",
        "!pip install torch torchvision torchaudio --index-url https://download.pytorch.org/whl/cpu\n",
        "!pip install transformers==4.33.2 tokenizers==0.13.3 diffusers xformers accelerate safetensors"
      ]
    },
    {
      "cell_type": "code",
      "metadata": {},
      "source": [
        "# Montar Google Drive com force_remount\n",
        "from google.colab import drive\n",
        "drive.mount('/content/drive', force_remount=True)"
      ]
    },
    {
      "cell_type": "code",
      "metadata": {},
      "source": [
        "# Garantir que a pasta SD_LoRAs existe no Drive\n",
        "import os\n",
        "loras_path = '/content/drive/MyDrive/SD_LoRAs'\n",
        "os.makedirs(loras_path, exist_ok=True)\n",
        "print(f'✅ Pasta para LoRAs pronta em: {loras_path}')"
      ]
    },
    {
      "cell_type": "code",
      "metadata": {},
      "source": [
        "# Clonar AUTOMATIC1111 WebUI\n",
        "!rm -rf /content/stable-diffusion-webui\n",
        "!git clone https://github.com/AUTOMATIC1111/stable-diffusion-webui /content/stable-diffusion-webui"
      ]
    },
    {
      "cell_type": "code",
      "metadata": {},
      "source": [
        "# Link simbólico dos LoRAs do Drive para o WebUI\n",
        "!rm -rf /content/stable-diffusion-webui/models/Lora\n",
        "!ln -s /content/drive/MyDrive/SD_LoRAs /content/stable-diffusion-webui/models/Lora"
      ]
    },
    {
      "cell_type": "code",
      "metadata": {},
      "source": [
        "# Rodar WebUI em CPU (sem GPU)\n",
        "%cd /content/stable-diffusion-webui\n",
        "!COMMANDLINE_ARGS=\"--share --disable-safe-unpickle --skip-torch-cuda-test --precision full --no-half\" \\\n",
        "  REQS_FILE=\"requirements.txt\" \\\n",
        "  python launch.py"
      ]
    }
  ],
  "metadata": {
    "colab": {
      "provenance": []
    },
    "kernelspec": {
      "display_name": "Python 3",
      "language": "python",
      "name": "python3"
    },
    "language_info": {
      "name": "python",
      "version": "3.10"
    }
  },
  "nbformat": 4,
  "nbformat_minor": 0
}
