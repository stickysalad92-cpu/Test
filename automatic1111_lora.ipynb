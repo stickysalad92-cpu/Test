{
 "cells": [
  {
   "cell_type": "markdown",
   "metadata": {},
   "source": [
    "# Stable Diffusion WebUI + LoRAs + DeepDanbooru\n",
    "Este notebook monta o ambiente, conecta ao Google Drive, carrega LoRAs e usa DeepDanbooru para gerar prompts automáticos."
   ]
  },
  {
   "cell_type": "code",
   "execution_count": null,
   "metadata": {},
   "outputs": [],
   "source": [
    "# 1. Conectar o Google Drive\n",
    "from google.colab import drive\n",
    "drive.mount('/content/drive')"
   ]
  },
  {
   "cell_type": "code",
   "execution_count": null,
   "metadata": {},
   "outputs": [],
   "source": [
    "# 2. Clonar o repositório da WebUI\n",
    "!git clone https://github.com/AUTOMATIC1111/stable-diffusion-webui /content/stable-diffusion-webui\n",
    "%cd /content/stable-diffusion-webui"
   ]
  },
  {
   "cell_type": "code",
   "execution_count": null,
   "metadata": {},
   "outputs": [],
   "source": [
    "# 3. Criar link simbólico da pasta LoRA no Drive\n",
    "!mkdir -p /content/stable-diffusion-webui/models/Lora\n",
    "!ln -s /content/drive/MyDrive/Lora /content/stable-diffusion-webui/models/Lora"
   ]
  },
  {
   "cell_type": "code",
   "execution_count": null,
   "metadata": {},
   "outputs": [],
   "source": [
    "# 4. Instalar DeepDanbooru\n",
    "!pip install tensorflow==2.12.0\n",
    "!git clone https://github.com/KichangKim/DeepDanbooru /content/DeepDanbooru\n",
    "%cd /content/DeepDanbooru\n",
    "!pip install -r requirements.txt\n",
    "!python setup.py build_ext --inplace"
   ]
  },
  {
   "cell_type": "code",
   "execution_count": null,
   "metadata": {},
   "outputs": [],
   "source": [
    "# 5. Iniciar a WebUI com share público\n",
    "%cd /content/stable-diffusion-webui\n",
    "!COMMANDLINE_ARGS=\"--share --disable-safe-unpickle --skip-torch-cuda-test --skip-python-version-check\" \\\n",
    "    python launch.py"
   ]
  },
  {
   "cell_type": "code",
   "execution_count": null,
   "metadata": {},
   "outputs": [],
   "source": [
    "# 6. Gerar prompts a partir de imagem com DeepDanbooru\n",
    "import os\n",
    "from IPython.display import Image\n",
    "from google.colab import files\n",
    "import deepdanbooru as dd\n",
    "\n",
    "uploaded = files.upload()\n",
    "filename = list(uploaded.keys())[0]\n",
    "Image(filename)\n",
    "\n",
    "model = dd.project.load_project(\"/content/DeepDanbooru/project\").load_model()\n",
    "tags = dd.commands.evaluate_image_files(model, [filename], threshold=0.3)\n",
    "\n",
    "prompt = \", \".join(tags[0][\"result\"].keys())\n",
    "print(\"\\nPrompt gerado:\")\n",
    "print(prompt)"
   ]
  }
 ],
 "metadata": {
  "colab": {
   "name": "automatic1111_lora_deepbooru.ipynb",
   "provenance": []
  },
  "kernelspec": {
   "display_name": "Python 3",
   "language": "python",
   "name": "python3"
  },
  "language_info": {
   "name": "python"
  }
 },
 "nbformat": 4,
 "nbformat_minor": 0
}
