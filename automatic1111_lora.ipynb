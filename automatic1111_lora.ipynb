{
 "cells": [
  {
   "cell_type": "code",
   "execution_count": null,
   "id": "anti_idle",
   "metadata": {},
   "outputs": [],
   "source": [
    "# ⏳ Anti-Idle (mantém Colab ativo)\n",
    "import time\n",
    "while True:\n",
    "    time.sleep(60)\n"
   ]
  },
  {
   "cell_type": "code",
   "execution_count": null,
   "id": "mount_drive",
   "metadata": {},
   "outputs": [],
   "source": [
    "# 📂 Montar Google Drive\n",
    "from google.colab import drive\n",
    "drive.mount('/content/drive')\n"
   ]
  },
  {
   "cell_type": "code",
   "execution_count": null,
   "id": "install_webui",
   "metadata": {},
   "outputs": [],
   "source": [
    "# ⬇️ Instalar AUTOMATIC1111 WebUI (sem tokenizers extras)\n",
    "!git clone https://github.com/AUTOMATIC1111/stable-diffusion-webui /content/stable-diffusion-webui\n",
    "%cd /content/stable-diffusion-webui\n",
    "!git reset --hard\n"
   ]
  },
  {
   "cell_type": "code",
   "execution_count": null,
   "id": "link_loras",
   "metadata": {},
   "outputs": [],
   "source": [
    "# 🔗 Linkar pasta de LoRAs\n",
    "!mkdir -p /content/stable-diffusion-webui/models/Lora\n",
    "!ln -s /content/drive/MyDrive/SD_LoRAs /content/stable-diffusion-webui/models/Lora\n"
   ]
  },
  {
   "cell_type": "code",
   "execution_count": null,
   "id": "run_webui",
   "metadata": {},
   "outputs": [],
   "source": [
    "# ▶️ Rodar em modo CPU\n",
    "%cd /content/stable-diffusion-webui\n",
    "!COMMANDLINE_ARGS=\"--share --disable-safe-unpickle --skip-torch-cuda-test --precision full --no-half\" \\\n",
    "  REQS_FILE=\"requirements.txt\" \\\n",
    "  python launch.py\n"
   ]
  }
 ],
 "metadata": {
  "kernelspec": {
   "display_name": "Python 3",
   "language": "python",
   "name": "python3"
  },
  "language_info": {
   "name": "python",
   "version": "3.10"
  }
 },
 "nbformat": 4,
 "nbformat_minor": 5
}
