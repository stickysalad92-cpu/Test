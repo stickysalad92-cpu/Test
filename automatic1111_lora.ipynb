{
  "cells": [
    {
      "cell_type": "markdown",
      "metadata": {},
      "source": [
        "# 🚀 Stable Diffusion Automatic1111 + LoRAs (Google Drive)\n",
        "\n",
        "Este notebook instala e inicia o Automatic1111 no Google Colab.\n",
        "\n",
        "📌 Recursos incluídos:\n",
        "- Instalação automática do WebUI\n",
        "- Montagem do Google Drive\n",
        "- Carregamento automático de LoRAs do Drive (`/MyDrive/SD_LoRAs`)\n",
        "- Link público (Gradio) para usar a interface\n",
        "\n",
        "👉 Como usar:\n",
        "1. Crie a pasta `SD_LoRAs` no seu Google Drive.\n",
        "2. Coloque os arquivos `.safetensors` ou `.pt` dos LoRAs dentro dela.\n",
        "3. Execute todas as células.\n",
        "4. Abra o link do Gradio no final para acessar o Stable Diffusion WebUI."
      ]
    },
    {
      "cell_type": "code",
      "execution_count": null,
      "metadata": {},
      "outputs": [],
      "source": [
        "# 🔹 Clonar o repositório do Automatic1111\n",
        "!git clone https://github.com/AUTOMATIC1111/stable-diffusion-webui\n",
        "%cd stable-diffusion-webui\n",
        "!git reset --hard\n",
        "\n",
        "# 🔹 Instalar dependências\n",
        "!pip install -r requirements_versions.txt"
      ]
    },
    {
      "cell_type": "markdown",
      "metadata": {},
      "source": [
        "## 🔗 Montar o Google Drive e carregar LoRAs"
      ]
    },
    {
      "cell_type": "code",
      "execution_count": null,
      "metadata": {},
      "outputs": [],
      "source": [
        "from google.colab import drive\n",
        "import shutil, os\n",
        "\n",
        "# 🔹 Monta o Google Drive\n",
        "drive.mount('/content/drive')\n",
        "\n",
        "# 🔹 Caminhos\n",
        "loras_drive_folder = \"/content/drive/MyDrive/SD_LoRAs\"\n",
        "loras_webui_folder = \"/content/stable-diffusion-webui/models/Lora\"\n",
        "\n",
        "# 🔹 Garantir que as pastas existem\n",
        "os.makedirs(loras_drive_folder, exist_ok=True)\n",
        "os.makedirs(loras_webui_folder, exist_ok=True)\n",
        "\n",
        "# 🔹 Copiar arquivos do Drive para o WebUI\n",
        "for file in os.listdir(loras_drive_folder):\n",
        "    src = os.path.join(loras_drive_folder, file)\n",
        "    dst = os.path.join(loras_webui_folder, file)\n",
        "    if os.path.isfile(src):\n",
        "        shutil.copy(src, dst)\n",
        "        print(f\"✅ Copiado: {file}\")\n",
        "\n",
        "print(\"✔️ Todos os LoRAs foram carregados!\")"
      ]
    },
    {
      "cell_type": "markdown",
      "metadata": {},
      "source": [
        "## 🚀 Iniciar o WebUI"
      ]
    },
    {
      "cell_type": "code",
      "execution_count": null,
      "metadata": {},
      "outputs": [],
      "source": [
        "%cd /content/stable-diffusion-webui\n",
        "\n",
        "# 🔹 Iniciar com link público (Gradio)\n",
        "!COMMANDLINE_ARGS=\"--share --disable-safe-unpickle\" REQS_FILE=requirements_versions.txt python launch.py"
      ]
    }
  ],
  "metadata": {
    "colab": {
      "provenance": []
    },
    "kernelspec": {
      "display_name": "Python 3",
      "language": "python",
      "name": "python3"
    },
    "language_info": {
      "name": "python"
    }
  },
  "nbformat": 4,
  "nbformat_minor": 0
}
