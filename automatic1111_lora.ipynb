{
 "cells": [
  {
   "cell_type": "markdown",
   "metadata": {},
   "source": [
    "# Stable Diffusion WebUI (Automatic1111) + LoRA support\n",
    "Colab notebook with Google Drive and LoRA upload."
   ]
  },
  {
   "cell_type": "code",
   "execution_count": null,
   "metadata": {},
   "outputs": [],
   "source": [
    "# Install Automatic1111\n",
    "!git clone https://github.com/AUTOMATIC1111/stable-diffusion-webui /content/stable-diffusion-webui\n",
    "!apt -y install -qq aria2\n",
    "!pip install gdown\n",
    "\n",
    "# Requirements\n",
    "!COMMANDLINE_ARGS=\"--share --disable-safe-unpickle\" REQS_FILE=\"requirements.txt\" python launch.py"
   ]
  },
  {
   "cell_type": "markdown",
   "metadata": {},
   "source": [
    "## Mount Google Drive"
   ]
  },
  {
   "cell_type": "code",
   "execution_count": null,
   "metadata": {},
   "outputs": [],
   "source": [
    "from google.colab import drive\n",
    "drive.mount('/content/drive')\n",
    "\n",
    "# Create folders for models and LoRAs\n",
    "!mkdir -p /content/drive/MyDrive/SD/models/Lora"
   ]
  },
  {
   "cell_type": "markdown",
   "metadata": {},
   "source": [
    "## Upload LoRAs manually"
   ]
  },
  {
   "cell_type": "code",
   "execution_count": null,
   "metadata": {},
   "outputs": [],
   "source": [
    "from google.colab import files\n",
    "uploaded = files.upload()\n",
    "\n",
    "import os\n",
    "for fn in uploaded.keys():\n",
    "    os.rename(fn, f\"/content/drive/MyDrive/SD/models/Lora/{fn}\")\n",
    "print(\"Uploaded LoRAs to /content/drive/MyDrive/SD/models/Lora\")"
   ]
  },
  {
   "cell_type": "markdown",
   "metadata": {},
   "source": [
    "## Launch WebUI"
   ]
  },
  {
   "cell_type": "code",
   "execution_count": null,
   "metadata": {},
   "outputs": [],
   "source": [
    "%cd /content/stable-diffusion-webui\n",
    "!COMMANDLINE_ARGS=\"--share --disable-safe-unpickle\" python launch.py"
   ]
  }
 ],
 "metadata": {
  "colab": {
   "provenance": []
  },
  "kernelspec": {
   "display_name": "Python 3",
   "language": "python",
   "name": "python3"
  },
  "language_info": {
   "name": "python"
  }
 },
 "nbformat": 4,
 "nbformat_minor": 0
}
