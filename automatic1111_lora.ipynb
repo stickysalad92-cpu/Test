{
 "cells": [
  {
   "cell_type": "code",
   "execution_count": null,
   "id": "python_310",
   "metadata": {},
   "outputs": [],
   "source": [
    "# 🔧 Forçar Python 3.10\n",
    "!sudo apt-get update -y\n",
    "!sudo apt-get install python3.10 python3.10-venv python3.10-dev -y\n",
    "!sudo update-alternatives --install /usr/bin/python3 python3 /usr/bin/python3.10 1\n",
    "!sudo apt-get install python3-pip -y\n",
    "import sys\n",
    "!python3 --version"
   ]
  },
  {
   "cell_type": "code",
   "execution_count": null,
   "id": "clone_repo",
   "metadata": {},
   "outputs": [],
   "source": [
    "# 📂 Clonar Automatic1111\n",
    "!git clone https://github.com/AUTOMATIC1111/stable-diffusion-webui /content/stable-diffusion-webui\n",
    "%cd /content/stable-diffusion-webui"
   ]
  },
  {
   "cell_type": "code",
   "execution_count": null,
   "id": "mount_drive",
   "metadata": {},
   "outputs": [],
   "source": [
    "# 📌 Montar Google Drive para usar LoRAs\n",
    "from google.colab import drive\n",
    "drive.mount('/content/drive')\n",
    "\n",
    "!mkdir -p /content/stable-diffusion-webui/models/Lora\n",
    "!ln -s /content/drive/MyDrive/SD_LoRAs /content/stable-diffusion-webui/models/Lora"
   ]
  },
  {
   "cell_type": "code",
   "execution_count": null,
   "id": "download_model",
   "metadata": {},
   "outputs": [],
   "source": [
    "# ⬇️ Baixar modelo base (SD 1.5)\n",
    "!wget -O /content/stable-diffusion-webui/models/Stable-diffusion/model.ckpt \\\n",
    " https://huggingface.co/runwayml/stable-diffusion-v1-5/resolve/main/v1-5-pruned.ckpt"
   ]
  },
  {
   "cell_type": "code",
   "execution_count": null,
   "id": "launch_webui",
   "metadata": {},
   "outputs": [],
   "source": [
    "# ▶️ Rodar WebUI em modo CPU\n",
    "%cd /content/stable-diffusion-webui\n",
    "!COMMANDLINE_ARGS=\"--share --disable-safe-unpickle --skip-torch-cuda-test --precision full --no-half\" \\\n",
    "  python launch.py"
   ]
  },
  {
   "cell_type": "code",
   "execution_count": null,
   "id": "anti_idle",
   "metadata": {},
   "outputs": [],
   "source": [
    "# ⏳ Anti-Idle (mantém Colab ativo)\n",
    "import time\n",
    "while True:\n",
    "    time.sleep(60)"
   ]
  }
 ],
 "metadata": {
  "kernelspec": {
   "display_name": "Python 3",
   "language": "python",
   "name": "python3"
  },
  "language_info": {
   "name": "python",
   "version": "3.10"
  }
 },
 "nbformat": 4,
 "nbformat_minor": 5
}
