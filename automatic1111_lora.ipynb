{
  "cells": [
    {
      "cell_type": "code",
      "execution_count": null,
      "metadata": {},
      "outputs": [],
      "source": [
        "%%javascript\n",
        "(function(){\n",
        "  function clickConnect(){\n",
        "    const host = document.querySelector('colab-connect-button');\n",
        "    const btn = host && host.shadowRoot ? host.shadowRoot.querySelector('#connect') : null;\n",
        "    (btn || document.querySelector('#connect'))?.click();\n",
        "    console.log('Colab ping');\n",
        "  }\n",
        "  setInterval(clickConnect, 60000);\n",
        "  console.log('✅ Anti-idle ativo');\n",
        "})();"
      ]
    },
    {
      "cell_type": "code",
      "execution_count": null,
      "metadata": {},
      "outputs": [],
      "source": [
        "!apt -y update -qq\n",
        "!apt -y install -qq aria2\n",
        "!pip install torch torchvision torchaudio --index-url https://download.pytorch.org/whl/cu118\n",
        "!pip install transformers==4.33.2\n",
        "!pip install tokenizers==0.13.3 --no-build-isolation --prefer-binary\n",
        "!pip install diffusers xformers accelerate safetensors"
      ]
    },
    {
      "cell_type": "code",
      "execution_count": null,
      "metadata": {},
      "outputs": [],
      "source": [
        "from google.colab import drive\n",
        "drive.mount('/content/drive', force_remount=True)"
      ]
    },
    {
      "cell_type": "code",
      "execution_count": null,
      "metadata": {},
      "outputs": [],
      "source": [
        "!git clone https://github.com/AUTOMATIC1111/stable-diffusion-webui /content/stable-diffusion-webui"
      ]
    },
    {
      "cell_type": "code",
      "execution_count": null,
      "metadata": {},
      "outputs": [],
      "source": [
        "!mkdir -p /content/stable-diffusion-webui/models/Lora\n",
        "!ln -s /content/drive/MyDrive/SD_LoRAs /content/stable-diffusion-webui/models/Lora"
      ]
    },
    {
      "cell_type": "code",
      "execution_count": null,
      "metadata": {},
      "outputs": [],
      "source": [
        "%cd /content/stable-diffusion-webui\n",
        "!COMMANDLINE_ARGS=\"--share --disable-safe-unpickle --skip-torch-cuda-test --precision full --no-half\" \\\n",
        "  REQS_FILE=\"requirements.txt\" \\\n",
        "  python launch.py"
      ]
    }
  ],
  "metadata": {
    "colab": {
      "provenance": []
    },
    "kernelspec": {
      "display_name": "Python 3",
      "language": "python",
      "name": "python3"
    },
    "language_info": {
      "name": "python",
      "version": "3.10"
    }
  },
  "nbformat": 4,
  "nbformat_minor": 0
}
