{
 "cells": [
  {
   "cell_type": "code",
   "metadata": {},
   "source": [
    "!pip uninstall -y tokenizers\n",
    "!pip install tokenizers==0.13.3"
   ],
   "outputs": [],
   "execution_count": null
  },
  {
   "cell_type": "code",
   "metadata": {},
   "source": [
    "!apt -y update -qq\n",
    "!apt -y install -qq aria2\n",
    "!pip install -q torch torchvision torchaudio\n",
    "!pip install -q xformers\n",
    "!pip install -q gradio==3.16.2\n",
    "!pip install -q git+https://github.com/camenduru/stable-diffusion-webui-colab"
   ],
   "outputs": [],
   "execution_count": null
  },
  {
   "cell_type": "code",
   "metadata": {},
   "source": [
    "!git clone https://github.com/AUTOMATIC1111/stable-diffusion-webui\n",
    "%cd stable-diffusion-webui\n",
    "!git clone https://github.com/camenduru/stable-diffusion-webui-colab/extensions/sd-webui-controlnet extensions/sd-webui-controlnet\n",
    "!git clone https://github.com/kohya-ss/sd-webui-additional-networks extensions/sd-webui-additional-networks\n",
    "!mkdir -p /content/stable-diffusion-webui/models/Lora\n",
    "!mkdir -p /content/stable-diffusion-webui/models/Stable-diffusion"
   ],
   "outputs": [],
   "execution_count": null
  },
  {
   "cell_type": "code",
   "metadata": {},
   "source": [
    "from google.colab import files\n",
    "uploaded = files.upload()\n",
    "for filename in uploaded.keys():\n",
    "    !mv \"{filename}\" /content/stable-diffusion-webui/models/Lora/"
   ],
   "outputs": [],
   "execution_count": null
  },
  {
   "cell_type": "code",
   "metadata": {},
   "source": [
    "!COMMANDLINE_ARGS=\"--share --gradio-debug --xformers\" REQS_FILE=\"requirements.txt\" python launch.py"
   ],
   "outputs": [],
   "execution_count": null
  }
 ],
 "metadata": {
  "colab": {
   "name": "automatic1111_lora.ipynb",
   "provenance": []
  },
  "kernelspec": {
   "display_name": "Python 3",
   "language": "python",
   "name": "python3"
  },
  "language_info": {
   "name": "python",
   "version": "3.9"
  }
 },
 "nbformat": 4,
 "nbformat_minor": 0
}
