{
 "cells": [
  {
   "cell_type": "markdown",
   "metadata": {},
   "source": [
    "# 🚀 Automatic1111 + LoRA (Drive: SD_LoRAs) + Anti-Idle\n",
    "Notebook mínimo: monta o Google Drive, linka a pasta **SD_LoRAs** ao WebUI, inicia com link público (`--share`) e ativa anti-idle."
   ]
  },
  {
   "cell_type": "code",
   "execution_count": null,
   "metadata": {},
   "outputs": [],
   "source": [
    "# 1) Montar Google Drive\n",
    "from google.colab import drive\n",
    "drive.mount('/content/drive')"
   ]
  },
  {
   "cell_type": "code",
   "execution_count": null,
   "metadata": {},
   "outputs": [],
   "source": [
    "# 2) Garantir pasta de LoRAs no Drive e informar caminho\n",
    "import os\n",
    "lora_drive_path = '/content/drive/MyDrive/SD_LoRAs'\n",
    "os.makedirs(lora_drive_path, exist_ok=True)\n",
    "print('✅ Pasta de LoRAs no Drive:', lora_drive_path)"
   ]
  },
  {
   "cell_type": "code",
   "execution_count": null,
   "metadata": {},
   "outputs": [],
   "source": [
    "# 3) Clonar o WebUI e linkar a pasta de LoRAs do Drive\n",
    "%cd /content\n",
    "!git clone https://github.com/AUTOMATIC1111/stable-diffusion-webui /content/stable-diffusion-webui\n",
    "!mkdir -p /content/stable-diffusion-webui/models\n",
    "!rm -rf /content/stable-diffusion-webui/models/Lora\n",
    "!ln -s /content/drive/MyDrive/SD_LoRAs /content/stable-diffusion-webui/models/Lora\n",
    "print('🔗 LoRAs do Drive linkados em /content/stable-diffusion-webui/models/Lora')"
   ]
  },
  {
   "cell_type": "code",
   "execution_count": null,
   "metadata": {},
   "outputs": [],
   "source": [
    "# 4) Iniciar o WebUI com link público\n",
    "%cd /content/stable-diffusion-webui\n",
    "!COMMANDLINE_ARGS=\"--share --skip-torch-cuda-test --skip-python-version-check --precision full --no-half --enable-insecure-extension-access\" \\\n",
    "  python launch.py"
   ]
  },
  {
   "cell_type": "code",
   "execution_count": null,
   "metadata": {},
   "outputs": [],
   "source": [
    "%%javascript\n",
    "// 5) Anti-idle (evita queda por inatividade)\n",
    "(function(){\n",
    "  function clickConnect(){\n",
    "    const host = document.querySelector('colab-connect-button');\n",
    "    const btn = host && host.shadowRoot ? host.shadowRoot.querySelector('#connect') : null;\n",
    "    (btn || document.querySelector('#connect'))?.click();\n",
    "    console.log('Colab ping');\n",
    "  }\n",
    "  setInterval(clickConnect, 60000); // a cada 60s\n",
    "  console.log('✅ Anti-idle ativo');\n",
    "})();"
   ]
  }
 ],
 "metadata": {
  "colab": { "provenance": [] },
  "kernelspec": { "display_name": "Python 3", "language": "python", "name": "python3" },
  "language_info": { "name": "python" }
 },
 "nbformat": 4,
 "nbformat_minor": 5
}
