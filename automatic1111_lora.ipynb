{
 "cells": [
  {
   "cell_type": "code",
   "metadata": {},
   "source": [
    "# Atualizar pacotes e corrigir problema do tokenizers\n",
    "!apt -y update -qq\n",
    "!pip install -U pip\n",
    "!pip install -U tokenizers==0.13.3\n",
    "!pip install torch torchvision torchaudio --index-url https://download.pytorch.org/whl/cu118\n",
    "!pip install transformers accelerate safetensors xformers"
   ]
  },
  {
   "cell_type": "code",
   "metadata": {},
   "source": [
    "# Clonar o Automatic1111\n",
    "!git clone https://github.com/AUTOMATIC1111/stable-diffusion-webui\n",
    "%cd stable-diffusion-webui\n",
    "!mkdir -p models/Lora"
   ]
  },
  {
   "cell_type": "code",
   "metadata": {},
   "source": [
    "# Upload dos LoRAs\n",
    "from google.colab import files\n",
    "uploaded = files.upload()\n",
    "\n",
    "import shutil\n",
    "for filename in uploaded.keys():\n",
    "    shutil.move(filename, f\"models/Lora/{filename}\")\n",
    "\n",
    "print(\"✅ LoRAs enviados com sucesso!\")"
   ]
  },
  {
   "cell_type": "code",
   "metadata": {},
   "source": [
    "# Iniciar o WebUI com LoRAs disponíveis\n",
    "!COMMANDLINE_ARGS=\"--share --xformers\" REQS_FILE=requirements.txt python launch.py"
   ]
  }
 ],
 "metadata": {
  "colab": {
   "name": "automatic1111_lora.ipynb"
  },
  "kernelspec": {
   "display_name": "Python 3",
   "language": "python",
   "name": "python3"
  },
  "language_info": {
   "name": "python"
  }
 },
 "nbformat": 4,
 "nbformat_minor": 0
}
