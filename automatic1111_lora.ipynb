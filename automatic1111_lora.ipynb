{
  "cells": [
    {
      "cell_type": "code",
      "metadata": {},
      "source": [
        "%%javascript\n",
        "function ClickConnect(){\n",
        "  console.log(\"⏳ Evitando idle...\");\n",
        "  document.querySelector(\"colab-connect-button\").click();\n",
        "}\n",
        "setInterval(ClickConnect, 60000);"
      ]
    },
    {
      "cell_type": "code",
      "metadata": {},
      "source": [
        "# 📦 Instalar dependências\n",
        "!apt -y update -qq\n",
        "!apt -y install -qq aria2\n",
        "!pip install torch torchvision torchaudio --index-url https://download.pytorch.org/whl/cu118\n",
        "!pip install diffusers transformers==4.33.2 tokenizers==0.13.3 accelerate safetensors xformers"
      ]
    },
    {
      "cell_type": "code",
      "metadata": {},
      "source": [
        "# 🔗 Montar Google Drive\n",
        "from google.colab import drive\n",
        "drive.mount('/content/drive')"
      ]
    },
    {
      "cell_type": "code",
      "metadata": {},
      "source": [
        "# ⬇️ Clonar repositório WebUI\n",
        "!git clone https://github.com/AUTOMATIC1111/stable-diffusion-webui /content/stable-diffusion-webui"
      ]
    },
    {
      "cell_type": "code",
      "metadata": {},
      "source": [
        "# 📂 Ligar pastas de LoRAs\n",
        "!mkdir -p /content/stable-diffusion-webui/models/Lora\n",
        "!ln -s /content/drive/MyDrive/SD_LoRAs /content/stable-diffusion-webui/models/Lora"
      ]
    },
    {
      "cell_type": "code",
      "metadata": {},
      "source": [
        "# ▶️ Rodar em modo CPU (sem GPU local)\n",
        "%cd /content/stable-diffusion-webui\n",
        "!COMMANDLINE_ARGS=\"--share --disable-safe-unpickle --skip-torch-cuda-test --precision full --no-half\" \\\n",
        "  REQS_FILE=\"requirements.txt\" \\\n",
        "  python launch.py"
      ]
    }
  ],
  "metadata": {
    "colab": {
      "provenance": []
    },
    "kernelspec": {
      "display_name": "Python 3",
      "language": "python",
      "name": "python3"
    },
    "language_info": {
      "name": "python",
      "version": "3.10"
    }
  },
  "nbformat": 4,
  "nbformat_minor": 0
}
