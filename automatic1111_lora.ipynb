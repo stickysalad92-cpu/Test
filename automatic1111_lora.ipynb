{
  "cells": [
    {
      "cell_type": "code",
      "metadata": {
        "id": "anti_idle"
      },
      "source": [
        "%%javascript\n",
        "(function(){\n",
        "  function clickConnect(){\n",
        "    const host = document.querySelector('colab-connect-button');\n",
        "    const btn = host && host.shadowRoot ? host.shadowRoot.querySelector('#connect') : null;\n",
        "    (btn || document.querySelector('#connect'))?.click();\n",
        "    console.log('⏳ Mantendo sessão ativa...');\n",
        "  }\n",
        "  setInterval(clickConnect, 60000);\n",
        "})();"
      ]
    },
    {
      "cell_type": "code",
      "metadata": {},
      "source": [
        "# 🔄 Forçar Python 3.10\n",
        "!sudo apt-get update -y\n",
        "!sudo apt-get install -y python3.10 python3.10-distutils\n",
        "!sudo update-alternatives --install /usr/bin/python3 python3 /usr/bin/python3.10 1\n",
        "!sudo update-alternatives --set python3 /usr/bin/python3.10\n",
        "!python3 --version"
      ]
    },
    {
      "cell_type": "code",
      "metadata": {},
      "source": [
        "# 📂 Montar Google Drive\n",
        "from google.colab import drive\n",
        "drive.mount('/content/drive')"
      ]
    },
    {
      "cell_type": "code",
      "metadata": {},
      "source": [
        "# 🧹 Limpar pasta quebrada e clonar repo de novo\n",
        "!rm -rf /content/stable-diffusion-webui\n",
        "!git clone https://github.com/AUTOMATIC1111/stable-diffusion-webui /content/stable-diffusion-webui"
      ]
    },
    {
      "cell_type": "code",
      "metadata": {},
      "source": [
        "# 📁 Criar link simbólico para LoRAs no Google Drive\n",
        "!mkdir -p /content/stable-diffusion-webui/models/Lora\n",
        "!ln -s /content/drive/MyDrive/SD_LoRAs /content/stable-diffusion-webui/models/Lora"
      ]
    },
    {
      "cell_type": "code",
      "metadata": {},
      "source": [
        "# ▶️ Rodar WebUI em modo CPU (sem GPU)\n",
        "%cd /content/stable-diffusion-webui\n",
        "!COMMANDLINE_ARGS=\"--share --disable-safe-unpickle --skip-torch-cuda-test --precision full --no-half\" \\\n",
        "  REQS_FILE=\"requirements.txt\" \\\n",
        "  python launch.py"
      ]
    }
  ],
  "metadata": {
    "colab": {
      "provenance": []
    },
    "kernelspec": {
      "display_name": "Python 3",
      "language": "python",
      "name": "python3"
    },
    "language_info": {
      "name": "python",
      "version": "3.10"
    }
  },
  "nbformat": 4,
  "nbformat_minor": 0
}
