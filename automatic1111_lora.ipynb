{
 "cells": [
  {
   "cell_type": "markdown",
   "metadata": {},
   "source": [
    "# 🚀 Automatic1111 + LoRA + DeepDanbooru + Anti-Idle\n",
    "Esse notebook monta o Stable Diffusion WebUI no Colab, já integrado com Google Drive para LoRAs, DeepDanbooru para prompts automáticos e proteção contra queda por inatividade."
   ]
  },
  {
   "cell_type": "code",
   "execution_count": null,
   "metadata": {},
   "outputs": [],
   "source": [
    "# Monta o Google Drive\n",
    "from google.colab import drive\n",
    "drive.mount('/content/drive')"
   ]
  },
  {
   "cell_type": "code",
   "execution_count": null,
   "metadata": {},
   "outputs": [],
   "source": [
    "# Clona o repositório Automatic1111\n",
    "!git clone https://github.com/AUTOMATIC1111/stable-diffusion-webui /content/stable-diffusion-webui\n",
    "\n",
    "# Conecta a pasta do Google Drive onde ficam os LoRAs\n",
    "!mkdir -p /content/stable-diffusion-webui/models/Lora\n",
    "!ln -s /content/drive/MyDrive/LoRA /content/stable-diffusion-webui/models/Lora"
   ]
  },
  {
   "cell_type": "code",
   "execution_count": null,
   "metadata": {},
   "outputs": [],
   "source": [
    "# Instalações extras: DeepDanbooru\n",
    "!pip install tensorflow\n",
    "!git clone https://github.com/KichangKim/DeepDanbooru /content/DeepDanbooru\n",
    "!pip install -r /content/DeepDanbooru/requirements.txt"
   ]
  },
  {
   "cell_type": "code",
   "execution_count": null,
   "metadata": {},
   "outputs": [],
   "source": [
    "# Função para gerar prompt a partir de uma imagem com DeepDanbooru (threshold = 0.3)\n",
    "import os\n",
    "import tensorflow as tf\n",
    "from PIL import Image\n",
    "import numpy as np\n",
    "from IPython.display import clear_output\n",
    "\n",
    "MODEL_PATH = '/content/DeepDanbooru/deepdanbooru-v3-20211112-sgd-e28'\n",
    "PROJECT_CONTEXT = tf.saved_model.load(MODEL_PATH)\n",
    "\n",
    "def image_to_prompt(img_path, threshold=0.3):\n",
    "    image = Image.open(img_path).convert('RGB').resize((512, 512))\n",
    "    image_array = np.expand_dims(np.array(image, dtype=np.float32) / 255, axis=0)\n",
    "    predictions = PROJECT_CONTEXT(image_array)[0].numpy()\n",
    "    tags = []\n",
    "    with open(os.path.join(MODEL_PATH, 'tags.txt'), 'r') as f:\n",
    "        tag_list = f.read().splitlines()\n",
    "    for tag, prob in zip(tag_list, predictions):\n",
    "        if prob >= threshold:\n",
    "            tags.append(tag.replace('_',' '))\n",
    "    return ', '.join(tags)"
   ]
  },
  {
   "cell_type": "code",
   "execution_count": null,
   "metadata": {},
   "outputs": [],
   "source": [
    "# Exemplo: gerar prompt de uma imagem\n",
    "# prompt = image_to_prompt('/content/minha_imagem.jpg', threshold=0.3)\n",
    "# print(prompt)"
   ]
  },
  {
   "cell_type": "code",
   "execution_count": null,
   "metadata": {},
   "outputs": [],
   "source": [
    "# Inicia o WebUI\n",
    "!COMMANDLINE_ARGS=\"--skip-torch-cuda-test --no-half --precision full\" \\\n",
    "  REQS_FILE=\"requirements.txt\" \\\n",
    "  python launch.py --share"
   ]
  },
  {
   "cell_type": "code",
   "execution_count": null,
   "metadata": {},
   "outputs": [],
   "source": [
    "%%javascript\n",
    "function ClickConnect(){\n",
    "  console.log(\"✅ Colab anti-idle ativado\");\n",
    "  var btn = document.querySelector(\"colab-toolbar-button#connect\"); \n",
    "  if (btn) {\n",
    "    btn.click();\n",
    "  }\n",
    "}\n",
    "setInterval(ClickConnect, 60000);  // 60 segundos"
   ]
  }
 ],
 "metadata": {
  "colab": {
   "provenance": []
  },
  "kernelspec": {
   "display_name": "Python 3",
   "language": "python",
   "name": "python3"
  },
  "language_info": {
   "name": "python"
  }
 },
 "nbformat": 4,
 "nbformat_minor": 0
}
