{
 "cells": [
  {
   "cell_type": "code",
   "execution_count": null,
   "metadata": {},
   "outputs": [],
   "source": [
    "%%javascript\n",
    "// 🔄 Anti-idle\n",
    "(function() {\n",
    "  function clickConnect(){\n",
    "    console.log(\"⏳ Mantendo sessão ativa...\");\n",
    "    document.querySelector(\"colab-connect-button\").click();\n",
    "  }\n",
    "  setInterval(clickConnect, 60000);\n",
    "})();"
   ]
  },
  {
   "cell_type": "code",
   "execution_count": null,
   "metadata": {},
   "outputs": [],
   "source": [
    "# 📦 Instalar dependências principais\n",
    "!apt -y update -qq\n",
    "!apt -y install -qq aria2 python3.10 python3.10-distutils\n",
    "!pip install torch torchvision torchaudio --index-url https://download.pytorch.org/whl/cu118\n",
    "!pip install transformers==4.33.2\n",
    "!pip install tokenizers==0.13.3 --no-build-isolation --prefer-binary\n",
    "!pip install diffusers xformers accelerate safetensors"
   ]
  },
  {
   "cell_type": "code",
   "execution_count": null,
   "metadata": {},
   "outputs": [],
   "source": [
    "# 🔧 Forçar Python 3.10\n",
    "!update-alternatives --install /usr/bin/python3 python3 /usr/bin/python3.10 1\n",
    "!update-alternatives --set python3 /usr/bin/python3.10\n",
    "!python3 --version"
   ]
  },
  {
   "cell_type": "code",
   "execution_count": null,
   "metadata": {},
   "outputs": [],
   "source": [
    "# 📂 Montar Google Drive\n",
    "from google.colab import drive\n",
    "drive.mount('/content/drive')"
   ]
  },
  {
   "cell_type": "code",
   "execution_count": null,
   "metadata": {},
   "outputs": [],
   "source": [
    "# ⬇️ Clonar AUTOMATIC1111 (sempre limpo antes)\n",
    "!rm -rf /content/stable-diffusion-webui\n",
    "!git clone https://github.com/AUTOMATIC1111/stable-diffusion-webui /content/stable-diffusion-webui"
   ]
  },
  {
   "cell_type": "code",
   "execution_count": null,
   "metadata": {},
   "outputs": [],
   "source": [
    "# 🔗 Criar link da pasta de LoRAs no Drive\n",
    "!mkdir -p /content/stable-diffusion-webui/models/Lora\n",
    "!ln -s /content/drive/MyDrive/SD_LoRAs /content/stable-diffusion-webui/models/Lora || echo 'Link já existe'"
   ]
  },
  {
   "cell_type": "code",
   "execution_count": null,
   "metadata": {},
   "outputs": [],
   "source": [
    "# ▶️ Rodar WebUI (modo CPU/GPU)\n",
    "%cd /content/stable-diffusion-webui\n",
    "!COMMANDLINE_ARGS=\"--share --disable-safe-unpickle --skip-torch-cuda-test --precision full --no-half\" \\\n",
    "  REQS_FILE=\"requirements.txt\" \\\n",
    "  python launch.py"
   ]
  }
 ],
 "metadata": {
  "colab": {
   "provenance": []
  },
  "kernelspec": {
   "display_name": "Python 3",
   "language": "python",
   "name": "python3"
  },
  "language_info": {
   "name": "python",
   "version": "3.10"
  }
 },
 "nbformat": 4,
 "nbformat_minor": 0
}
