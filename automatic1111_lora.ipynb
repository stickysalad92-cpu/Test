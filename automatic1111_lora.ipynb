{
 "cells": [
  {
   "cell_type": "code",
   "execution_count": null,
   "id": "anti_idle",
   "metadata": {},
   "outputs": [],
   "source": [
    "# ⏳ Anti-Idle (mantém Colab ativo)\n",
    "import time\n",
    "while True:\n",
    "    time.sleep(60)"
   ]
  },
  {
   "cell_type": "code",
   "execution_count": null,
   "id": "mount_drive",
   "metadata": {},
   "outputs": [],
   "source": [
    "# 🔗 Montar Google Drive\n",
    "from google.colab import drive\n",
    "drive.mount('/content/drive', force_remount=True)"
   ]
  },
  {
   "cell_type": "code",
   "execution_count": null,
   "id": "clone_repo",
   "metadata": {},
   "outputs": [],
   "source": [
    "# ⬇️ Clonar AUTOMATIC1111 WebUI\n",
    "!git clone https://github.com/AUTOMATIC1111/stable-diffusion-webui /content/stable-diffusion-webui"
   ]
  },
  {
   "cell_type": "code",
   "execution_count": null,
   "id": "link_loras",
   "metadata": {},
   "outputs": [],
   "source": [
    "# 🔗 Conectar pasta de LoRAs\n",
    "!mkdir -p /content/stable-diffusion-webui/models/Lora\n",
    "!ln -s /content/drive/MyDrive/SD_LoRAs /content/stable-diffusion-webui/models/Lora"
   ]
  },
  {
   "cell_type": "code",
   "execution_count": null,
   "id": "fix_deps",
   "metadata": {},
   "outputs": [],
   "source": [
    "# 🛠️ Corrigir dependências (sem tokenizers)\n",
    "!pip install --upgrade pip\n",
    "!pip install torch torchvision torchaudio\n",
    "!pip install transformers==4.40.1\n",
    "!pip install accelerate safetensors"
   ]
  },
  {
   "cell_type": "code",
   "execution_count": null,
   "id": "launch_webui",
   "metadata": {},
   "outputs": [],
   "source": [
    "# ▶️ Rodar em modo CPU (sem checagem CUDA)\n",
    "%cd /content/stable-diffusion-webui\n",
    "!COMMANDLINE_ARGS=\"--share --disable-safe-unpickle --skip-torch-cuda-test --precision full --no-half\" \\\n",
    "  REQS_FILE=\"requirements.txt\" \\\n",
    "  python launch.py"
   ]
  }
 ],
 "metadata": {
  "kernelspec": {
   "display_name": "Python 3",
   "language": "python",
   "name": "python3"
  },
  "language_info": {
   "name": "python",
   "version": "3.10"
  }
 },
 "nbformat": 4,
 "nbformat_minor": 5
}
